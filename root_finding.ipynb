{
  "nbformat": 4,
  "nbformat_minor": 0,
  "metadata": {
    "colab": {
      "provenance": [],
      "authorship_tag": "ABX9TyMIk9DZbRiiv6Z/0V1FnOAL",
      "include_colab_link": true
    },
    "kernelspec": {
      "name": "python3",
      "display_name": "Python 3"
    },
    "language_info": {
      "name": "python"
    }
  },
  "cells": [
    {
      "cell_type": "markdown",
      "metadata": {
        "id": "view-in-github",
        "colab_type": "text"
      },
      "source": [
        "<a href=\"https://colab.research.google.com/github/syedshubha/MAT120/blob/main/root_finding.ipynb\" target=\"_parent\"><img src=\"https://colab.research.google.com/assets/colab-badge.svg\" alt=\"Open In Colab\"/></a>"
      ]
    },
    {
      "cell_type": "markdown",
      "source": [
        "#Bisection Method\n",
        "1.   $f(x)$ is continuous in $x\\in[a,b]$ with $f(a)f(b)<0$\n",
        "2.   $c = (a+b)/2$\n",
        "3. If $f(c) = 0 $ then $x=c$ is the root\n",
        "4. If $f(c) \\neq 0 $ then:\n",
        "*   $f(c)f(a)<0 \\implies b=c$\n",
        "*   $f(b)f(c)<0 \\implies a=c$\n",
        "5. Repeat steps 1-4 until $f(c)=0$ or $(b-a)<tol$\n",
        "\n"
      ],
      "metadata": {
        "id": "B0Hg8JTiVvTb"
      }
    },
    {
      "cell_type": "code",
      "execution_count": 35,
      "metadata": {
        "id": "ChoEZzm-UWPV"
      },
      "outputs": [],
      "source": [
        "def bisection(f, a, b, tol=1e-6):\n",
        "  if f(a)*f(b)>0:\n",
        "    return \"vul\"\n",
        "  n = 0\n",
        "  while (b-a)>tol:\n",
        "    c = (a+b)/2\n",
        "    n = n + 1\n",
        "    if f(c)==0:\n",
        "      break\n",
        "    elif f(c)*f(a) <0:\n",
        "      b = c\n",
        "    else:\n",
        "      a = c\n",
        "  return n, c"
      ]
    },
    {
      "cell_type": "code",
      "source": [
        "from math import *\n",
        "def g(x):\n",
        "    return x**2 -x -1  # Example function: x^2 - 3\n",
        "\n",
        "a = -1\n",
        "b = 0\n",
        "steps, root = bisection(g, a, b)\n",
        "print(root)"
      ],
      "metadata": {
        "colab": {
          "base_uri": "https://localhost:8080/"
        },
        "id": "GRZ_VUPPU_qj",
        "outputId": "c8c9bf00-9601-4134-9cc5-5b83674772a3"
      },
      "execution_count": 36,
      "outputs": [
        {
          "output_type": "stream",
          "name": "stdout",
          "text": [
            "-0.6180334091186523\n"
          ]
        }
      ]
    },
    {
      "cell_type": "code",
      "source": [
        "steps"
      ],
      "metadata": {
        "colab": {
          "base_uri": "https://localhost:8080/"
        },
        "id": "Q87RiTkqcjW2",
        "outputId": "6f173f85-f9c1-43c5-c256-a2ee86017e45"
      },
      "execution_count": 37,
      "outputs": [
        {
          "output_type": "execute_result",
          "data": {
            "text/plain": [
              "20"
            ]
          },
          "metadata": {},
          "execution_count": 37
        }
      ]
    },
    {
      "cell_type": "markdown",
      "source": [
        "#Fixed Point Iteration\n",
        "We need to find the root (fixed point) of $x=\\Phi(x)$.\n",
        "\n",
        "Start with $x=x_0$, then\n",
        "$$x_{n+1} = \\Phi(x_n)$$\n",
        "For a good choice of $\\Phi$ and $x_0$, the sequence converges to a root."
      ],
      "metadata": {
        "id": "HUvuqdAgmHHg"
      }
    },
    {
      "cell_type": "code",
      "source": [
        "#Fixed-point Iteration\n",
        "x = 0.5\n",
        "steps = 20\n",
        "for i in range(steps):\n",
        "  x = exp(-x)\n",
        "print(x)"
      ],
      "metadata": {
        "colab": {
          "base_uri": "https://localhost:8080/"
        },
        "id": "fkaI_JfBcnjt",
        "outputId": "e4f0bf57-a62e-48c6-f09f-9d149a1e9ac4"
      },
      "execution_count": null,
      "outputs": [
        {
          "output_type": "stream",
          "name": "stdout",
          "text": [
            "0.5671424775509449\n"
          ]
        }
      ]
    },
    {
      "cell_type": "markdown",
      "source": [
        "$x^2-x-1=0$"
      ],
      "metadata": {
        "id": "J5BGDEtLd4R8"
      }
    },
    {
      "cell_type": "code",
      "source": [
        "x = -0.5\n",
        "for i in range(50):\n",
        "  x = -sqrt(x+1)\n",
        "print(x)"
      ],
      "metadata": {
        "colab": {
          "base_uri": "https://localhost:8080/"
        },
        "id": "qgaaRZkJd1m4",
        "outputId": "76283bd0-0200-4f5c-b08c-1bab2c05ff67"
      },
      "execution_count": 34,
      "outputs": [
        {
          "output_type": "stream",
          "name": "stdout",
          "text": [
            "-0.6180311138212546\n"
          ]
        }
      ]
    },
    {
      "cell_type": "code",
      "source": [
        "(1-sqrt(5))/2"
      ],
      "metadata": {
        "colab": {
          "base_uri": "https://localhost:8080/"
        },
        "id": "kXg9vLQieGi-",
        "outputId": "75c7bf9b-5374-44e3-9a46-2a3ead9368d3"
      },
      "execution_count": null,
      "outputs": [
        {
          "output_type": "execute_result",
          "data": {
            "text/plain": [
              "-0.6180339887498949"
            ]
          },
          "metadata": {},
          "execution_count": 29
        }
      ]
    },
    {
      "cell_type": "markdown",
      "source": [
        "# Numerical Differentiation"
      ],
      "metadata": {
        "id": "sVvq4kj9nCmf"
      }
    },
    {
      "cell_type": "markdown",
      "source": [
        "$f'(a)= \\lim_{h\\to 0^+} \\frac{f(a+h)-f(a)}{h}$ (Forward Backward)"
      ],
      "metadata": {
        "id": "QrOoUyKoghuf"
      }
    },
    {
      "cell_type": "markdown",
      "source": [
        "$f'(a)= \\lim_{h\\to 0^+} \\frac{f(a)-f(a-h)}{h}$ (Backward Difference)"
      ],
      "metadata": {
        "id": "nIZInPuwg0Zk"
      }
    },
    {
      "cell_type": "markdown",
      "source": [
        "$f'(a)= \\lim_{h\\to 0} \\frac{f(a+h)-f(a-h)}{2h}$ (Central Difference)"
      ],
      "metadata": {
        "id": "H4korumPg8Af"
      }
    },
    {
      "cell_type": "code",
      "source": [
        "def f(x):\n",
        "  return sin(x)+x**2 + exp(-x)\n",
        "a = 1\n",
        "print(cos(a)+2*a-exp(-a))"
      ],
      "metadata": {
        "colab": {
          "base_uri": "https://localhost:8080/"
        },
        "id": "W1JXlI-HhGXv",
        "outputId": "c68bbe16-a301-46a7-e8c2-d8139a3a34d4"
      },
      "execution_count": 54,
      "outputs": [
        {
          "output_type": "stream",
          "name": "stdout",
          "text": [
            "2.1724228646966974\n"
          ]
        }
      ]
    },
    {
      "cell_type": "code",
      "source": [
        "h = 0.00001\n",
        "#forward\n",
        "df1 = (f(a+h)-f(a))/h\n",
        "df1"
      ],
      "metadata": {
        "colab": {
          "base_uri": "https://localhost:8080/"
        },
        "id": "SrxXbp6Vh1iu",
        "outputId": "e602caff-b85e-446f-f708-83a16678e182"
      },
      "execution_count": 59,
      "outputs": [
        {
          "output_type": "execute_result",
          "data": {
            "text/plain": [
              "2.172430496738542"
            ]
          },
          "metadata": {},
          "execution_count": 59
        }
      ]
    },
    {
      "cell_type": "code",
      "source": [
        "#backward\n",
        "df2 = (f(a)-f(a-h))/h\n",
        "df2"
      ],
      "metadata": {
        "colab": {
          "base_uri": "https://localhost:8080/"
        },
        "id": "IFzEjAk2iFad",
        "outputId": "eec05951-fc8a-437c-9508-ea8fb552258d"
      },
      "execution_count": 60,
      "outputs": [
        {
          "output_type": "execute_result",
          "data": {
            "text/plain": [
              "2.172415232593039"
            ]
          },
          "metadata": {},
          "execution_count": 60
        }
      ]
    },
    {
      "cell_type": "code",
      "source": [
        "#central\n",
        "df = (f(a+h)-f(a-h))/(2*h)\n",
        "df"
      ],
      "metadata": {
        "colab": {
          "base_uri": "https://localhost:8080/"
        },
        "id": "PiMM4peZinfW",
        "outputId": "047e1dc8-3718-4c02-8353-b0688106cb97"
      },
      "execution_count": 61,
      "outputs": [
        {
          "output_type": "execute_result",
          "data": {
            "text/plain": [
              "2.1724228646657906"
            ]
          },
          "metadata": {},
          "execution_count": 61
        }
      ]
    },
    {
      "cell_type": "markdown",
      "source": [
        "Central Difference method rocks! Why?"
      ],
      "metadata": {
        "id": "EeOC0-RHnL-G"
      }
    }
  ]
}