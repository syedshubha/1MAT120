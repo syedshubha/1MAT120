{
  "nbformat": 4,
  "nbformat_minor": 0,
  "metadata": {
    "colab": {
      "provenance": [],
      "authorship_tag": "ABX9TyMLJkZ8GTmxxVVFIt5AGsHw",
      "include_colab_link": true
    },
    "kernelspec": {
      "name": "python3",
      "display_name": "Python 3"
    },
    "language_info": {
      "name": "python"
    }
  },
  "cells": [
    {
      "cell_type": "markdown",
      "metadata": {
        "id": "view-in-github",
        "colab_type": "text"
      },
      "source": [
        "<a href=\"https://colab.research.google.com/github/syedshubha/1MAT120/blob/main/Lab_4.ipynb\" target=\"_parent\"><img src=\"https://colab.research.google.com/assets/colab-badge.svg\" alt=\"Open In Colab\"/></a>"
      ]
    },
    {
      "cell_type": "markdown",
      "source": [
        "# Integration\n",
        "Topics covered:\n",
        "\n",
        "\n",
        "1.   Integration using sympy\n",
        "2.   Rectangular and trapezoid method (Including how to handle infinite limit)\n",
        "3. Monte Carlo integration\n",
        "\n"
      ],
      "metadata": {
        "id": "rGxlfu-j4vkC"
      }
    },
    {
      "cell_type": "code",
      "source": [
        "from numpy import *\n",
        "from sympy import *\n",
        "from matplotlib.pyplot import *\n",
        "x, t = symbols(\"x t\")"
      ],
      "metadata": {
        "id": "soSpHGbr5XfG"
      },
      "execution_count": null,
      "outputs": []
    },
    {
      "cell_type": "markdown",
      "source": [
        "## $\\int dx e^{3x}cos(4x)$"
      ],
      "metadata": {
        "id": "HAcPMARi5O22"
      }
    },
    {
      "cell_type": "code",
      "source": [
        "integrate(exp(3*x)*cos(4*x),x)"
      ],
      "metadata": {
        "colab": {
          "base_uri": "https://localhost:8080/",
          "height": 54
        },
        "id": "BKf6FpJ84yKS",
        "outputId": "da18a93d-d3bb-4508-9d50-60186abe73ea"
      },
      "execution_count": null,
      "outputs": [
        {
          "output_type": "execute_result",
          "data": {
            "text/plain": [
              "4*exp(3*x)*sin(4*x)/25 + 3*exp(3*x)*cos(4*x)/25"
            ],
            "text/latex": "$\\displaystyle \\frac{4 e^{3 x} \\sin{\\left(4 x \\right)}}{25} + \\frac{3 e^{3 x} \\cos{\\left(4 x \\right)}}{25}$"
          },
          "metadata": {},
          "execution_count": 4
        }
      ]
    },
    {
      "cell_type": "markdown",
      "source": [
        "# $\\int_{0}^{\\pi} dx e^{3x}cos(4x)$"
      ],
      "metadata": {
        "id": "1eywwFuJ5dun"
      }
    },
    {
      "cell_type": "code",
      "source": [
        "integrate(exp(3*x)*cos(4*x),(x,0, pi))"
      ],
      "metadata": {
        "colab": {
          "base_uri": "https://localhost:8080/",
          "height": 54
        },
        "id": "x6aqRsiS5c6H",
        "outputId": "e74d65da-3473-4185-bc02-e40a72fdee12"
      },
      "execution_count": null,
      "outputs": [
        {
          "output_type": "execute_result",
          "data": {
            "text/plain": [
              "-3/25 + 3*exp(3*pi)/25"
            ],
            "text/latex": "$\\displaystyle - \\frac{3}{25} + \\frac{3 e^{3 \\pi}}{25}$"
          },
          "metadata": {},
          "execution_count": 5
        }
      ]
    },
    {
      "cell_type": "markdown",
      "source": [
        "$\\int_{-∞}^{∞} sin(x^2) dx$"
      ],
      "metadata": {
        "id": "BSlPy5L45pnY"
      }
    },
    {
      "cell_type": "code",
      "source": [
        "integrate(sin(x**2), (x,-oo, oo))"
      ],
      "metadata": {
        "colab": {
          "base_uri": "https://localhost:8080/",
          "height": 55
        },
        "id": "kYoxx2cm5qaQ",
        "outputId": "d8eb6e56-fa50-41b7-a9ad-0ac56e82adbe"
      },
      "execution_count": null,
      "outputs": [
        {
          "output_type": "execute_result",
          "data": {
            "text/plain": [
              "sqrt(2)*sqrt(pi)/2"
            ],
            "text/latex": "$\\displaystyle \\frac{\\sqrt{2} \\sqrt{\\pi}}{2}$"
          },
          "metadata": {},
          "execution_count": 7
        }
      ]
    },
    {
      "cell_type": "markdown",
      "source": [
        "## Factorial\n",
        "$ n! = \\int_{0}^{\\infty} x^n e^{-x} dx$"
      ],
      "metadata": {
        "id": "qejBDq-C56Rg"
      }
    },
    {
      "cell_type": "code",
      "source": [
        "n = 0.5\n",
        "f= x**n * exp(-x)\n",
        "integrate(f,(x,0,oo))"
      ],
      "metadata": {
        "colab": {
          "base_uri": "https://localhost:8080/",
          "height": 37
        },
        "id": "vTBNDb555wKQ",
        "outputId": "1e9f9144-a1e7-44ac-97d2-f99f0ff181dc"
      },
      "execution_count": null,
      "outputs": [
        {
          "output_type": "execute_result",
          "data": {
            "text/plain": [
              "0.886226925452758"
            ],
            "text/latex": "$\\displaystyle 0.886226925452758$"
          },
          "metadata": {},
          "execution_count": 8
        }
      ]
    },
    {
      "cell_type": "code",
      "source": [
        "sqrt(pi/4).evalf()"
      ],
      "metadata": {
        "colab": {
          "base_uri": "https://localhost:8080/",
          "height": 37
        },
        "id": "DWWSOZnW5_XI",
        "outputId": "f9ba5555-0aa9-4dc8-e4f0-a9c72045d4fe"
      },
      "execution_count": null,
      "outputs": [
        {
          "output_type": "execute_result",
          "data": {
            "text/plain": [
              "0.886226925452758"
            ],
            "text/latex": "$\\displaystyle 0.886226925452758$"
          },
          "metadata": {},
          "execution_count": 9
        }
      ]
    },
    {
      "cell_type": "markdown",
      "source": [
        "So $(\\frac{1}{2})! = \\frac{\\sqrt{\\pi}}{2}$"
      ],
      "metadata": {
        "id": "DFBaCydh6EWo"
      }
    },
    {
      "cell_type": "markdown",
      "source": [
        "## $\\int_{-\\infty}^{\\infty} dx \\frac{sin(x)}{x}$"
      ],
      "metadata": {
        "id": "ovqchAJQ6YjS"
      }
    },
    {
      "cell_type": "code",
      "source": [
        "f = sin(x)/x\n",
        "integrate(f,(x,-oo,oo))"
      ],
      "metadata": {
        "colab": {
          "base_uri": "https://localhost:8080/",
          "height": 38
        },
        "id": "fPbeJTop6S-p",
        "outputId": "936e3297-7f6d-49b8-cbaf-7ed570a670db"
      },
      "execution_count": null,
      "outputs": [
        {
          "output_type": "execute_result",
          "data": {
            "text/plain": [
              "pi"
            ],
            "text/latex": "$\\displaystyle \\pi$"
          },
          "metadata": {},
          "execution_count": 10
        }
      ]
    },
    {
      "cell_type": "markdown",
      "source": [
        "## $\\int e^{x^2} dx$"
      ],
      "metadata": {
        "id": "zW0mEUwc6gqi"
      }
    },
    {
      "cell_type": "code",
      "source": [
        "integrate(exp(x**2),x)"
      ],
      "metadata": {
        "colab": {
          "base_uri": "https://localhost:8080/",
          "height": 54
        },
        "id": "qFFUMfBb6eZS",
        "outputId": "e5675c2d-8ee7-4ead-a1c4-d9089d800bd6"
      },
      "execution_count": null,
      "outputs": [
        {
          "output_type": "execute_result",
          "data": {
            "text/plain": [
              "sqrt(pi)*erfi(x)/2"
            ],
            "text/latex": "$\\displaystyle \\frac{\\sqrt{\\pi} \\operatorname{erfi}{\\left(x \\right)}}{2}$"
          },
          "metadata": {},
          "execution_count": 11
        }
      ]
    },
    {
      "cell_type": "markdown",
      "source": [
        "# Numerical Method"
      ],
      "metadata": {
        "id": "jGI2vz0m6nCz"
      }
    },
    {
      "cell_type": "code",
      "source": [
        "integrate(x**x, (x, 0, 1))"
      ],
      "metadata": {
        "colab": {
          "base_uri": "https://localhost:8080/",
          "height": 80
        },
        "id": "VS_r06a_6q3r",
        "outputId": "8257d3dd-3c9d-4ab4-8f51-df7de7e5b329"
      },
      "execution_count": null,
      "outputs": [
        {
          "output_type": "execute_result",
          "data": {
            "text/plain": [
              "Integral(x**x, (x, 0, 1))"
            ],
            "text/latex": "$\\displaystyle \\int\\limits_{0}^{1} x^{x}\\, dx$"
          },
          "metadata": {},
          "execution_count": 12
        }
      ]
    },
    {
      "cell_type": "markdown",
      "source": [
        "So Sympy cannot evaluate this. But wolfram alpha can.\n",
        "Solution: Use numerical or scipy.\n"
      ],
      "metadata": {
        "id": "LYU8ySAY7Ev1"
      }
    },
    {
      "cell_type": "markdown",
      "source": [
        "![Screenshot 2023-08-06 185703.png](data:image/png;base64,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)"
      ],
      "metadata": {
        "id": "lZPwUMzl7nT2"
      }
    },
    {
      "cell_type": "markdown",
      "source": [
        "![jxfrtxgjx.png](data:image/png;base64,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)"
      ],
      "metadata": {
        "id": "1j6WP4aH8gTh"
      }
    },
    {
      "cell_type": "markdown",
      "source": [
        "![220px-Integration_num_trapezes_notation.svg.png](data:image/png;base64,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)"
      ],
      "metadata": {
        "id": "RoYRBIvd8uZC"
      }
    },
    {
      "cell_type": "code",
      "source": [
        "def f(y):\n",
        "  return y**y\n",
        "\n",
        "# Trapezoid Rule\n",
        "\n",
        "n = 1000\n",
        "s = 0\n",
        "a = 0\n",
        "b = 1\n",
        "h= (b-a)/n\n",
        "\n",
        "for i in range(1,n+1):\n",
        "  s = s + f(a+i*h)*h\n",
        "\n",
        "print(s)"
      ],
      "metadata": {
        "colab": {
          "base_uri": "https://localhost:8080/"
        },
        "id": "YLI9PO0S7otQ",
        "outputId": "4df36417-3271-42ca-ad3f-f1bf337f9afa"
      },
      "execution_count": null,
      "outputs": [
        {
          "output_type": "stream",
          "name": "stdout",
          "text": [
            "0.7834313348691375\n"
          ]
        }
      ]
    },
    {
      "cell_type": "markdown",
      "source": [
        "Smaller $h$ will give more accurate result but consume more computation time."
      ],
      "metadata": {
        "id": "u3dEUU7D9B1h"
      }
    },
    {
      "cell_type": "markdown",
      "source": [
        "## How to handle infinity?\n",
        "\n",
        "\n",
        "1.   Take large upper limit $b$ and the riemann sum will converge\n",
        "2.   Increase $b$ and calculate sum until the value has converged upto a point\n",
        "\n"
      ],
      "metadata": {
        "id": "hLI_R7KL9ZZK"
      }
    },
    {
      "cell_type": "markdown",
      "source": [
        "### $$ \\int_{1}^{\\infty} \\frac{1}{x^7} dx $$\n",
        "(upto 3 decimal point)"
      ],
      "metadata": {
        "id": "1zcpt3jH-AM6"
      }
    },
    {
      "cell_type": "code",
      "source": [
        "integrate(1/x**7 , (x,1,oo)).evalf(3)"
      ],
      "metadata": {
        "colab": {
          "base_uri": "https://localhost:8080/",
          "height": 37
        },
        "id": "JyY5TjX596ma",
        "outputId": "ec2e23f3-2da8-42d7-fad6-2944a7b11f28"
      },
      "execution_count": null,
      "outputs": [
        {
          "output_type": "execute_result",
          "data": {
            "text/plain": [
              "0.167"
            ],
            "text/latex": "$\\displaystyle 0.167$"
          },
          "metadata": {},
          "execution_count": 14
        }
      ]
    },
    {
      "cell_type": "code",
      "source": [
        "def y(z):\n",
        "  return (1/z**7)\n",
        "\n",
        "a= 1.0\n",
        "h = 0.0001\n",
        "var = 100.0 # To compare first time\n",
        "b = 10\n",
        "\n",
        "\n",
        "while True:\n",
        "  n = int((b-a)/h)\n",
        "  s = 0\n",
        "  for i in range(n):\n",
        "    s= s+ y(a+i*h)*h # Rectangle method\n",
        "\n",
        "  if(abs(s-var)<0.0001):\n",
        "    break;\n",
        "  else:\n",
        "    var = s\n",
        "print(f\"{s:.4f}\")"
      ],
      "metadata": {
        "colab": {
          "base_uri": "https://localhost:8080/"
        },
        "id": "hjqn36_b7SBc",
        "outputId": "a95b5d55-3f3b-437c-a5f2-3274f4bfd265"
      },
      "execution_count": null,
      "outputs": [
        {
          "output_type": "stream",
          "name": "stdout",
          "text": [
            "0.1667\n"
          ]
        }
      ]
    },
    {
      "cell_type": "markdown",
      "source": [
        "## The method above is not efficient enough. Can you reduce the complexity?"
      ],
      "metadata": {
        "id": "zgfDKviPAr3m"
      }
    },
    {
      "cell_type": "markdown",
      "source": [
        "# Monte Carlo Method for Integration"
      ],
      "metadata": {
        "id": "YUCPYqxMBELe"
      }
    },
    {
      "cell_type": "markdown",
      "source": [
        "An illustration of Monte Carlo integration. In this example, the domain D is the inner circle and the domain E is the square. Because the square's area (4) can be easily calculated, the area of the circle (π*1.02) can be estimated by the ratio (0.8) of the points inside the circle (40) to the total number of points (50), yielding an approximation for the circle's area of 4*0.8 = 3.2 ≈ π."
      ],
      "metadata": {
        "id": "3ImeLOV2BTLW"
      }
    },
    {
      "cell_type": "markdown",
      "source": [
        "![220px-MonteCarloIntegrationCircle.svg.png](data:image/png;base64,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)"
      ],
      "metadata": {
        "id": "d1-AeQqXBVbW"
      }
    },
    {
      "cell_type": "markdown",
      "source": [
        "Pseudo-Random number \\\\\n",
        " $X_i= (a+bX_{i-1}) MOD \\ m$"
      ],
      "metadata": {
        "id": "44S32rYuBoG_"
      }
    },
    {
      "cell_type": "code",
      "source": [
        "seed = 3 # change the seed, the output will be different\n",
        "x = 0\n",
        "\n",
        "for i in range(5):\n",
        "  x = (seed + x*6)%10\n",
        "  print(x, end = \" \")"
      ],
      "metadata": {
        "colab": {
          "base_uri": "https://localhost:8080/"
        },
        "id": "k4xt6F-DBIme",
        "outputId": "9c02dba6-6288-42bc-d57a-bb63785bc83d"
      },
      "execution_count": null,
      "outputs": [
        {
          "output_type": "stream",
          "name": "stdout",
          "text": [
            "3 1 9 7 5 "
          ]
        }
      ]
    },
    {
      "cell_type": "code",
      "source": [
        "from numpy.random import *\n",
        "# seed(12)\n",
        "# for fixed seed, output will be same\n",
        "x = rand(6)\n",
        "print(x) # output lies between 0 & 1"
      ],
      "metadata": {
        "colab": {
          "base_uri": "https://localhost:8080/"
        },
        "id": "9g5PlCaOB8Qe",
        "outputId": "3edfd089-f285-4408-9fd6-780b7e8db42c"
      },
      "execution_count": null,
      "outputs": [
        {
          "output_type": "stream",
          "name": "stdout",
          "text": [
            "[0.00995687 0.87705766 0.79043974 0.4765294  0.27158979 0.16458249]\n"
          ]
        }
      ]
    },
    {
      "cell_type": "markdown",
      "source": [
        "$\\int_{0}^{1} e^x dx$"
      ],
      "metadata": {
        "id": "cjWsgBn3CaiA"
      }
    },
    {
      "cell_type": "code",
      "source": [
        "from sympy import *\n",
        "x = symbols('x')\n",
        "integrate(exp(x), (x,0,1)).evalf()"
      ],
      "metadata": {
        "colab": {
          "base_uri": "https://localhost:8080/",
          "height": 37
        },
        "id": "j6BtaOOFCUfX",
        "outputId": "429e13d3-7514-4afd-bb38-1553fbbe824e"
      },
      "execution_count": null,
      "outputs": [
        {
          "output_type": "execute_result",
          "data": {
            "text/plain": [
              "1.71828182845905"
            ],
            "text/latex": "$\\displaystyle 1.71828182845905$"
          },
          "metadata": {},
          "execution_count": 21
        }
      ]
    },
    {
      "cell_type": "code",
      "source": [
        "N = 9999 #large value will give more accurate result costing more computation time\n",
        "\n",
        "x = rand(N)\n",
        "temp = rand(N)\n",
        "y = [e*i for i in temp]\n",
        "\n",
        "points = [(x[i], y[i]) for i in range(N)]\n",
        "\n",
        "z = [e**i for i in x]\n",
        "\n",
        "n = 0\n",
        "for i in range(N):\n",
        "  if y[i] <= z[i]:\n",
        "    n = n + 1\n",
        "print(e*n/N)"
      ],
      "metadata": {
        "colab": {
          "base_uri": "https://localhost:8080/"
        },
        "id": "cmM9lNhxCjEn",
        "outputId": "4ceccc46-5b06-475c-d9c8-aaa54f3b4802"
      },
      "execution_count": null,
      "outputs": [
        {
          "output_type": "stream",
          "name": "stdout",
          "text": [
            "1.720844481862762\n"
          ]
        }
      ]
    },
    {
      "cell_type": "code",
      "source": [
        "from matplotlib.pyplot import *\n",
        "scatter(x, y)"
      ],
      "metadata": {
        "colab": {
          "base_uri": "https://localhost:8080/",
          "height": 447
        },
        "id": "0uDv0_gtCE_P",
        "outputId": "7c4e318e-3bae-4633-f0b4-0d2e4a6573da"
      },
      "execution_count": null,
      "outputs": [
        {
          "output_type": "execute_result",
          "data": {
            "text/plain": [
              "<matplotlib.collections.PathCollection at 0x783cd54b0850>"
            ]
          },
          "metadata": {},
          "execution_count": 24
        },
        {
          "output_type": "display_data",
          "data": {
            "text/plain": [
              "<Figure size 640x480 with 1 Axes>"
            ],
            "image/png": "[encoded data removed]"
          },
          "metadata": {}
        }
      ]
    },
    {
      "cell_type": "markdown",
      "source": [
        "Evaluating $\\pi$ using\n",
        "$$ \\pi = 4 \\int_{0}^{1} dx\\sqrt{1-x^2} $$"
      ],
      "metadata": {
        "id": "79qeWbyiDbIH"
      }
    },
    {
      "cell_type": "code",
      "source": [
        "N = 99999  #large value will give more accurate result costing more computation time\n",
        "from numpy import sqrt\n",
        "\n",
        "x = rand(N)\n",
        "y = rand(N)\n",
        "\n",
        "\n",
        "z = sqrt(1-x**2)\n",
        "\n",
        "n = 0\n",
        "for i in range(N):\n",
        "  if y[i] <= z[i]:\n",
        "    n = n + 1\n",
        "print(4*n/N)"
      ],
      "metadata": {
        "colab": {
          "base_uri": "https://localhost:8080/"
        },
        "id": "0AOU6tSLDqNY",
        "outputId": "a57c2f06-3b5a-4511-db71-48a56c7499f0"
      },
      "execution_count": null,
      "outputs": [
        {
          "output_type": "stream",
          "name": "stdout",
          "text": [
            "3.1410714107141073\n"
          ]
        }
      ]
    }
  ]
}