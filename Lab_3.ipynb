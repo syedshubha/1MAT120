{
  "nbformat": 4,
  "nbformat_minor": 0,
  "metadata": {
    "colab": {
      "provenance": []
    },
    "kernelspec": {
      "name": "python3",
      "display_name": "Python 3"
    },
    "language_info": {
      "name": "python"
    }
  },
  "cells": [
    {
      "cell_type": "markdown",
      "source": [
        "# Maxima & Minima of a function\n",
        "\n",
        "Topic covered:\n",
        "\n",
        "\n",
        "1.   Differentiation and plotting\n",
        "2.   Solving Equations using sympy\n",
        "3. Finding maxima and minima\n",
        "\n"
      ],
      "metadata": {
        "id": "DsVdZeufqqTz"
      }
    },
    {
      "cell_type": "code",
      "source": [
        "from numpy import *\n",
        "from sympy import *\n",
        "from matplotlib.pyplot import *"
      ],
      "metadata": {
        "id": "68BUmpVOqwUO"
      },
      "execution_count": null,
      "outputs": []
    },
    {
      "cell_type": "code",
      "source": [
        "x, y , z = symbols('x y z')\n",
        "f= x**3 - 4*x + 3\n",
        "init_printing(pretty_print=True)\n",
        "display(solve(f))"
      ],
      "metadata": {
        "colab": {
          "base_uri": "https://localhost:8080/",
          "height": 68
        },
        "id": "sGVjYcmirFk3",
        "outputId": "d32cb3c3-f972-40fc-ea6e-7bf4ca8c8123"
      },
      "execution_count": null,
      "outputs": [
        {
          "output_type": "display_data",
          "data": {
            "text/plain": [
              "⎡     1   √13    √13   1⎤\n",
              "⎢1, - ─ + ───, - ─── - ─⎥\n",
              "⎣     2    2      2    2⎦"
            ],
            "text/latex": "$\\displaystyle \\left[ 1, \\  - \\frac{1}{2} + \\frac{\\sqrt{13}}{2}, \\  - \\frac{\\sqrt{13}}{2} - \\frac{1}{2}\\right]$"
          },
          "metadata": {}
        }
      ]
    },
    {
      "cell_type": "markdown",
      "source": [
        "Solve $ x^2 + x - 6 =0 $"
      ],
      "metadata": {
        "id": "p36T41p8rtZO"
      }
    },
    {
      "cell_type": "code",
      "source": [
        "solve(x**2+x-6, x)"
      ],
      "metadata": {
        "colab": {
          "base_uri": "https://localhost:8080/",
          "height": 37
        },
        "id": "5yhP8y4WrqT2",
        "outputId": "5c8739bb-fec9-4b69-bf76-4225fd17bc2e"
      },
      "execution_count": null,
      "outputs": [
        {
          "output_type": "execute_result",
          "data": {
            "text/plain": [
              "[-3, 2]"
            ],
            "text/latex": "$\\displaystyle \\left[ -3, \\  2\\right]$"
          },
          "metadata": {},
          "execution_count": 3
        }
      ]
    },
    {
      "cell_type": "markdown",
      "source": [
        "Solve $ sin(x) + sin(2x) = 1$"
      ],
      "metadata": {
        "id": "TifMcbugr7Ne"
      }
    },
    {
      "cell_type": "code",
      "source": [
        "solve(sin(x)+sin(2*x)-1,x)"
      ],
      "metadata": {
        "colab": {
          "base_uri": "https://localhost:8080/",
          "height": 58
        },
        "id": "kOi-LFV3r0OO",
        "outputId": "9202d6ea-eb8b-4dc1-ad81-8dfdfb45b373"
      },
      "execution_count": null,
      "outputs": [
        {
          "output_type": "execute_result",
          "data": {
            "text/plain": [
              "⎡-3⋅π   π⎤\n",
              "⎢─────, ─⎥\n",
              "⎣  2    2⎦"
            ],
            "text/latex": "$\\displaystyle \\left[ - \\frac{3 \\pi}{2}, \\  \\frac{\\pi}{2}\\right]$"
          },
          "metadata": {},
          "execution_count": 4
        }
      ]
    },
    {
      "cell_type": "code",
      "source": [
        "solveset(sin(x)+sin(2*x),x)"
      ],
      "metadata": {
        "colab": {
          "base_uri": "https://localhost:8080/",
          "height": 58
        },
        "id": "XVSyiKIGsBk-",
        "outputId": "fbf98b6c-8aa9-4c65-a5fc-1c3c847e788d"
      },
      "execution_count": null,
      "outputs": [
        {
          "output_type": "execute_result",
          "data": {
            "text/plain": [
              "                                        ⎧        4⋅π │      ⎫   ⎧        2⋅π │\n",
              "{2⋅n⋅π │ n ∊ ℤ} ∪ {2⋅n⋅π + π │ n ∊ ℤ} ∪ ⎨2⋅n⋅π + ─── │ n ∊ ℤ⎬ ∪ ⎨2⋅n⋅π + ─── │\n",
              "                                        ⎩         3  │      ⎭   ⎩         3  │\n",
              "\n",
              "      ⎫\n",
              " n ∊ ℤ⎬\n",
              "      ⎭"
            ],
            "text/latex": "$\\displaystyle \\left\\{2 n \\pi\\; \\middle|\\; n \\in \\mathbb{Z}\\right\\} \\cup \\left\\{2 n \\pi + \\pi\\; \\middle|\\; n \\in \\mathbb{Z}\\right\\} \\cup \\left\\{2 n \\pi + \\frac{4 \\pi}{3}\\; \\middle|\\; n \\in \\mathbb{Z}\\right\\} \\cup \\left\\{2 n \\pi + \\frac{2 \\pi}{3}\\; \\middle|\\; n \\in \\mathbb{Z}\\right\\}$"
          },
          "metadata": {},
          "execution_count": 5
        }
      ]
    },
    {
      "cell_type": "markdown",
      "source": [
        "Solveset gives us entire family of solution. If a range is given, we can also solve this as following"
      ],
      "metadata": {
        "id": "gpcz5AmvsF8G"
      }
    },
    {
      "cell_type": "code",
      "source": [
        "i = Interval(-pi, 2*pi/3)\n",
        "solveset(sin(x)+sin(2*x),x,i)"
      ],
      "metadata": {
        "colab": {
          "base_uri": "https://localhost:8080/",
          "height": 58
        },
        "id": "3iV0fQtysTDu",
        "outputId": "f78b010c-9e29-4fd9-cbde-456774684210"
      },
      "execution_count": null,
      "outputs": [
        {
          "output_type": "execute_result",
          "data": {
            "text/plain": [
              "⎧       -2⋅π   2⋅π⎫\n",
              "⎨0, -π, ─────, ───⎬\n",
              "⎩         3     3 ⎭"
            ],
            "text/latex": "$\\displaystyle \\left\\{0, - \\pi, - \\frac{2 \\pi}{3}, \\frac{2 \\pi}{3}\\right\\}$"
          },
          "metadata": {},
          "execution_count": 6
        }
      ]
    },
    {
      "cell_type": "markdown",
      "source": [
        "We want real roots for $t^3-1=0$"
      ],
      "metadata": {
        "id": "_dLoBJAassKP"
      }
    },
    {
      "cell_type": "code",
      "source": [
        "t = symbols('t', real=True)\n",
        "solve(t**3-1, t)"
      ],
      "metadata": {
        "colab": {
          "base_uri": "https://localhost:8080/",
          "height": 37
        },
        "id": "MjCHaRZis0O-",
        "outputId": "b6545d70-e3b0-49c0-cf4c-6b0e4ecea09f"
      },
      "execution_count": null,
      "outputs": [
        {
          "output_type": "execute_result",
          "data": {
            "text/plain": [
              "[1]"
            ],
            "text/latex": "$\\displaystyle \\left[ 1\\right]$"
          },
          "metadata": {},
          "execution_count": 7
        }
      ]
    },
    {
      "cell_type": "markdown",
      "source": [
        "# Taking a function input and calculating derivative"
      ],
      "metadata": {
        "id": "HPVEt9wRrdHm"
      }
    },
    {
      "cell_type": "code",
      "source": [
        "f = eval(input())\n",
        "print(\"given function\")\n",
        "display(f)\n",
        "print(\"Differentiating wrt x: \")\n",
        "g = diff(f,x)\n",
        "# diff(f(x), x, order)\n",
        "display(g)\n",
        "print(\"Second derivative:\")\n",
        "display(diff(f,x,2))"
      ],
      "metadata": {
        "colab": {
          "base_uri": "https://localhost:8080/",
          "height": 150
        },
        "id": "Ba23PTOctBAu",
        "outputId": "39a4d7ee-e39a-491b-bd07-f6220e5fb1ad"
      },
      "execution_count": null,
      "outputs": [
        {
          "output_type": "stream",
          "name": "stdout",
          "text": [
            "x**3 + sin(exp(x))\n",
            "given function\n"
          ]
        },
        {
          "output_type": "display_data",
          "data": {
            "text/plain": [
              " 3      ⎛ x⎞\n",
              "x  + sin⎝ℯ ⎠"
            ],
            "text/latex": "$\\displaystyle x^{3} + \\sin{\\left(e^{x} \\right)}$"
          },
          "metadata": {}
        },
        {
          "output_type": "stream",
          "name": "stdout",
          "text": [
            "Differentiating wrt x: \n"
          ]
        },
        {
          "output_type": "display_data",
          "data": {
            "text/plain": [
              "   2    x    ⎛ x⎞\n",
              "3⋅x  + ℯ ⋅cos⎝ℯ ⎠"
            ],
            "text/latex": "$\\displaystyle 3 x^{2} + e^{x} \\cos{\\left(e^{x} \\right)}$"
          },
          "metadata": {}
        },
        {
          "output_type": "stream",
          "name": "stdout",
          "text": [
            "Second derivative:\n"
          ]
        },
        {
          "output_type": "display_data",
          "data": {
            "text/plain": [
              "       2⋅x    ⎛ x⎞    x    ⎛ x⎞\n",
              "6⋅x - ℯ   ⋅sin⎝ℯ ⎠ + ℯ ⋅cos⎝ℯ ⎠"
            ],
            "text/latex": "$\\displaystyle 6 x - e^{2 x} \\sin{\\left(e^{x} \\right)} + e^{x} \\cos{\\left(e^{x} \\right)}$"
          },
          "metadata": {}
        }
      ]
    },
    {
      "cell_type": "markdown",
      "source": [
        "Plotting $f(x)$ and $f'(x)$ in a given range"
      ],
      "metadata": {
        "id": "fHvdKXm_t9n-"
      }
    },
    {
      "cell_type": "code",
      "source": [
        "def dplt(f, r):\n",
        "  a = linspace(r[0], r[1], 1001)\n",
        "\n",
        "  f_val = [f.subs(x,i) for i in a]\n",
        "  g = diff(f,x)\n",
        "  g_val = [g.subs(x,i) for i in a]\n",
        "  str1 = \"function= \"+ str(f)\n",
        "  str2 = \"derivative= \"+ str(g)\n",
        "  plot(a, f_val, label = str1 )\n",
        "  plot(a, g_val, label = str2 )\n",
        "  grid()\n",
        "  legend()\n",
        "  show()"
      ],
      "metadata": {
        "id": "JBd9S4rxrkeW"
      },
      "execution_count": null,
      "outputs": []
    },
    {
      "cell_type": "code",
      "source": [
        "f = eval(input())\n",
        "dplt(f, [-5, 5])"
      ],
      "metadata": {
        "colab": {
          "base_uri": "https://localhost:8080/",
          "height": 447
        },
        "id": "r7OAHStvuNe3",
        "outputId": "e56a05cd-e884-4a18-c393-271f59321512"
      },
      "execution_count": null,
      "outputs": [
        {
          "name": "stdout",
          "output_type": "stream",
          "text": [
            "exp(cos(x))\n"
          ]
        },
        {
          "output_type": "display_data",
          "data": {
            "text/plain": [
              "<Figure size 640x480 with 1 Axes>"
            ],
            "image/png": "[encoded data removed]"
          },
          "metadata": {}
        }
      ]
    },
    {
      "cell_type": "markdown",
      "source": [
        "# To find the extrema of a function $f(x)$ in given range $I$:\n",
        "\n",
        "\n",
        "1.    Find $f'(x)$ and solve $f'(x)=0$ for $ x \\in I$. Let the solution set is $X$\n",
        "2.  Calculate $f''(x) $ for $x \\in X$.\n",
        "\n",
        "*   If $ f''(a) <0 $ for $a \\in X$ then $f(a)$ is a local maxima.\n",
        "\n",
        "*   If $ f''(a) >0 $ for $a \\in X$ then $f(a)$ is a local minima.\n",
        "\n",
        "\n",
        "3.  If $ f''(a) = 0 $ for $a \\in X$ then, maxima or minima exists only if $f^{(2k+1)}(a) = 0 $ for all $k \\in \t\\mathbb{N} $. In that case, there exist a $p \\in \t\\mathbb{N} $ such that $f^{(2p)}(a) \\neq 0 $ and  $f^{(2n)}(a) \\neq 0 $ for $n < p$. $f(a)$ is a local maxima if $f^{(2p)}(a) <0 $ and $f(a)$ is a local minima if $f^{(2p)}(a) > 0 $\n",
        "4. If $f^{(2k+1)}(a) \\neq 0 $ for any $k \\in \t\\mathbb{N},  a \\in X$ then $f(a)$ is neither local maxima nor minima.\n"
      ],
      "metadata": {
        "id": "n-tWLiLMulzn"
      }
    },
    {
      "cell_type": "code",
      "source": [
        "# The code is not generalized\n",
        "\n",
        "def extremum(f):\n",
        "  df = diff(f, x)\n",
        "  ddf = diff(df, x)\n",
        "  root = solve(df)\n",
        "  roots = [i.evalf() for i in root]\n",
        "  f_val = [f.subs([(x,i)]).evalf() for i in roots]\n",
        "  ddf_val = [ddf.subs([(x,i)]).evalf() for i in roots]\n",
        "  for i in range(len(roots)):\n",
        "    if ddf_val[i] < 0:\n",
        "      print(f\"at x={roots[i]}, we have local maxima, f({roots[i]})= {f_val[i]}\")\n",
        "    elif ddf_val[i] > 0:\n",
        "      print(f\"at x={roots[i]}, we have local minima, f({roots[i]})= {f_val[i]}\")\n",
        "    else:\n",
        "      print(\"Pari Na :( )\")"
      ],
      "metadata": {
        "id": "EC_0RlccyUXf"
      },
      "execution_count": null,
      "outputs": []
    },
    {
      "cell_type": "code",
      "source": [
        "f= eval(input())\n",
        "extremum(f)"
      ],
      "metadata": {
        "colab": {
          "base_uri": "https://localhost:8080/"
        },
        "id": "goSH0tim1Hot",
        "outputId": "cd9d01ab-e213-43cf-e455-78cb45cb2c09"
      },
      "execution_count": null,
      "outputs": [
        {
          "output_type": "stream",
          "name": "stdout",
          "text": [
            "x**3 - 2*x +1 \n",
            "at x=-0.816496580927726, we have local maxima, f(-0.816496580927726)= 2.08866210790363\n",
            "at x=0.816496580927726, we have local minima, f(0.816496580927726)= -0.0886621079036347\n"
          ]
        }
      ]
    },
    {
      "cell_type": "code",
      "source": [
        "a = linspace(-1, 1, 1001)\n",
        "f_val = [f.subs(x,i) for i in a]\n",
        "plot(a, f_val )\n",
        "grid()\n",
        "show()"
      ],
      "metadata": {
        "colab": {
          "base_uri": "https://localhost:8080/",
          "height": 430
        },
        "id": "P6AScr8J1UTH",
        "outputId": "0e87c91c-8cc0-4250-ce31-f4d93ab11502"
      },
      "execution_count": null,
      "outputs": [
        {
          "output_type": "display_data",
          "data": {
            "text/plain": [
              "<Figure size 640x480 with 1 Axes>"
            ],
            "image/png": "[encoded data removed]"
          },
          "metadata": {}
        }
      ]
    },
    {
      "cell_type": "markdown",
      "source": [
        "We can see, the maxima-minima was accurate"
      ],
      "metadata": {
        "id": "1344m5i82ZeI"
      }
    },
    {
      "cell_type": "code",
      "source": [
        "f= x**4\n",
        "extremum(f)"
      ],
      "metadata": {
        "colab": {
          "base_uri": "https://localhost:8080/"
        },
        "id": "qeYL-4w12Wco",
        "outputId": "be0c8137-c9df-4ad2-ddd3-0ff2b468ed4b"
      },
      "execution_count": null,
      "outputs": [
        {
          "output_type": "stream",
          "name": "stdout",
          "text": [
            "Pari Na :( )\n"
          ]
        }
      ]
    },
    {
      "cell_type": "code",
      "source": [
        "a = linspace(-1, 1, 1001)\n",
        "f_val = [f.subs(x,i) for i in a]\n",
        "plot(a, f_val )\n",
        "grid()\n",
        "show()"
      ],
      "metadata": {
        "colab": {
          "base_uri": "https://localhost:8080/",
          "height": 430
        },
        "id": "LNK4pH2X2jGX",
        "outputId": "25465fee-1a9c-4180-d909-f5f71465205d"
      },
      "execution_count": null,
      "outputs": [
        {
          "output_type": "display_data",
          "data": {
            "text/plain": [
              "<Figure size 640x480 with 1 Axes>"
            ],
            "image/png": "[encoded data removed]"
          },
          "metadata": {}
        }
      ]
    },
    {
      "cell_type": "markdown",
      "source": [
        "There is a minima at x =0"
      ],
      "metadata": {
        "id": "yJTv6aXP2n9I"
      }
    },
    {
      "cell_type": "markdown",
      "source": [
        "# Extremum in an Interval"
      ],
      "metadata": {
        "id": "eihmPVaa2yh_"
      }
    },
    {
      "cell_type": "code",
      "source": [
        "def extremumr(f, r):\n",
        "  df = diff(f, x)\n",
        "  ddf = diff(df, x)\n",
        "  root = solveset(df, x,r)\n",
        "  roots = [i.evalf() for i in root]\n",
        "  f_val = [f.subs([(x,i)]).evalf() for i in roots]\n",
        "\n",
        "  ddf_val = [ddf.subs([(x,i)]).evalf() for i in roots]\n",
        "  for i in range(len(roots)):\n",
        "    if ddf_val[i] < 0:\n",
        "      print(f\"at x={roots[i]}, we have local maxima, f({roots[i]})= {f_val[i]}\")\n",
        "    elif ddf_val[i] > 0:\n",
        "      print(f\"at x={roots[i]}, we have local minima, f({roots[i]})= {f_val[i]}\")\n",
        "    else:\n",
        "      print(\"Pari Na :( )\")"
      ],
      "metadata": {
        "id": "R7yRNgK222pG"
      },
      "execution_count": null,
      "outputs": []
    },
    {
      "cell_type": "markdown",
      "source": [
        "Maxima, minima for $f(x) = sin(x) + sin(2x) $ for $x \\in [0,5]$"
      ],
      "metadata": {
        "id": "HDffBHux3FqB"
      }
    },
    {
      "cell_type": "code",
      "source": [
        "f = sin(x)+sin(2*x)\n",
        "i = Interval(0,5)\n",
        "extremumr(f, i)"
      ],
      "metadata": {
        "colab": {
          "base_uri": "https://localhost:8080/"
        },
        "id": "O3fpIwox2_R5",
        "outputId": "38511840-87d8-4106-efe7-7271110e43ee"
      },
      "execution_count": null,
      "outputs": [
        {
          "output_type": "stream",
          "name": "stdout",
          "text": [
            "at x=0.935929455661326, we have local maxima, f(0.935929455661326)= 1.76017259304609\n",
            "at x=2.57376328066115, we have local minima, f(2.57376328066115)= -0.369008729828190\n",
            "at x=3.70942202651844, we have local maxima, f(3.70942202651844)= 0.369008729828191\n"
          ]
        }
      ]
    },
    {
      "cell_type": "markdown",
      "source": [
        "# Task: Generalize the code"
      ],
      "metadata": {
        "id": "hSrafCKt3UJw"
      }
    }
  ]
}